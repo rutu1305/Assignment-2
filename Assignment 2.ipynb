{
 "cells": [
  {
   "cell_type": "code",
   "execution_count": null,
   "id": "5f3cd57c-a04e-41cf-8df5-153ec818626c",
   "metadata": {},
   "outputs": [],
   "source": [
    "1. DEF keyword is used to create function.\n",
    "Program:-\n",
    "     # Python program to print odd numbers\n",
    "     # list of numbers\n",
    "     list1 = [1 to 25]\n",
    "     # iterating each number in list\n",
    "     for num in list1:\n",
    "        # checking condition\n",
    "        if num % 2 != 0:\n",
    "            print(num, end=\"\")"
   ]
  },
  {
   "cell_type": "code",
   "execution_count": null,
   "id": "99b02174-a8ba-450c-b28a-2b6f2d7c554d",
   "metadata": {},
   "outputs": [],
   "source": [
    "2. We use *args and **kwargs as an argument when we are unsure about the number of arguments to pass\n",
    "in the function.\n",
    "*args allow a function to take any number of positional arguments.\n",
    "eg- def addition(*args):\n",
    "    result = 0\n",
    "    for i in args:\n",
    "        ressult +=i\n",
    "        return result\n",
    "**kwargs allow a fuction to take any number of keyword arguments.\n",
    "eg- def arg_printer(a,b,option=True,**kwargs):\n",
    "    print(a,b)\n",
    "    print(option)\n",
    "    print(kwargs)\n",
    "    arg_printer(3,4,param1=5,param2=6)"
   ]
  },
  {
   "cell_type": "code",
   "execution_count": null,
   "id": "183d3f3f-90d2-434b-befc-d2bbd365a362",
   "metadata": {},
   "outputs": [],
   "source": [
    "3. Iterator in Python is an object that is used to iterate over iterable objects like lists, \n",
    "tuples, dicts, and sets.\n",
    "The iterator object is initialized using the iter() method. It uses the \n",
    "next() method for iteration. __next__():\n",
    "The next method returns the next value for the iterable.\n",
    "Program:-\n",
    "def printValues():\n",
    "\tl = list()\n",
    "\tfor i in range (2, 4, 6, 8, 10, 12, 14, 16,\n",
    "18, 20):\n",
    "\tprint(l[:5])\n",
    "printValues()"
   ]
  },
  {
   "cell_type": "code",
   "execution_count": null,
   "id": "67e4faca-fc4a-461f-b440-ad65797e8c13",
   "metadata": {},
   "outputs": [],
   "source": [
    "4. Generator function:- Generator functions are a special kind of function that return a \n",
    "lazy iterator called a generator iterator. These are objects that you can loop over like a \n",
    "list. However,unlike lists, lazy iterators do not store their contents in memory.\n",
    "Yield keyword:- The Yield keyword in Python is similar to a return statement used for returning values or\n",
    "objects in Python. However, there is a slight difference. The yield statement returns a generator \n",
    "object to the one who calls the function which contains yield, instead of simply returning a value.\n",
    "Program:- Eg of Generator function\n",
    "def my_generator(n):\n",
    "\n",
    "    # initialize counter\n",
    "    value = 0\n",
    "\n",
    "    # loop until counter is less than n\n",
    "    while value < n:\n",
    "\n",
    "        # produce the current value of the counter\n",
    "        yield value\n",
    "\n",
    "        # increment the counter\n",
    "        value += 1\n",
    "\n",
    "# iterate over the generator object produced by my_generator\n",
    "for value in my_generator(3):\n",
    "\n",
    "    # print each value produced by generator\n",
    "    print(value)"
   ]
  },
  {
   "cell_type": "code",
   "execution_count": null,
   "id": "d1dede31-bb68-4d83-8f3b-835b32dcfe89",
   "metadata": {},
   "outputs": [],
   "source": [
    "5.  def getPrimes(n):\n",
    "    prime=True\n",
    "    i=2\n",
    "    while(i<1000):\n",
    "        for a in range(2,i):\n",
    "            if(i%a==0):\n",
    "                prime=False\n",
    "                break\n",
    "        if(prime):    \n",
    "            yield i"
   ]
  }
 ],
 "metadata": {
  "kernelspec": {
   "display_name": "Python 3 (ipykernel)",
   "language": "python",
   "name": "python3"
  },
  "language_info": {
   "codemirror_mode": {
    "name": "ipython",
    "version": 3
   },
   "file_extension": ".py",
   "mimetype": "text/x-python",
   "name": "python",
   "nbconvert_exporter": "python",
   "pygments_lexer": "ipython3",
   "version": "3.10.8"
  }
 },
 "nbformat": 4,
 "nbformat_minor": 5
}
